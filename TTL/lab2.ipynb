{
 "cells": [
  {
   "attachments": {},
   "cell_type": "markdown",
   "metadata": {},
   "source": [
    "Strings"
   ]
  },
  {
   "cell_type": "code",
   "execution_count": 13,
   "metadata": {},
   "outputs": [
    {
     "name": "stdout",
     "output_type": "stream",
     "text": [
      "Hello World!\n",
      "H\n",
      "llo\n",
      "llo World!\n",
      "Hello World!Hello World!\n",
      "Hello World!TEST\n"
     ]
    }
   ],
   "source": [
    "str = \"Hello World!\"\n",
    "print(str)\n",
    "print(str[0])\n",
    "print(str[2:5])\n",
    "print(str[2:])\n",
    "print(str * 2)\n",
    "print(str + \"TEST\")"
   ]
  },
  {
   "attachments": {},
   "cell_type": "markdown",
   "metadata": {},
   "source": [
    "Conditional Statements"
   ]
  },
  {
   "cell_type": "code",
   "execution_count": 12,
   "metadata": {},
   "outputs": [
    {
     "name": "stdout",
     "output_type": "stream",
     "text": [
      "You are not eligible to vote\n"
     ]
    }
   ],
   "source": [
    "age = int(input(\"Enter the age: \"))\n",
    "if age >= 18:\n",
    "    print(\"You are eligible to vote\")\n",
    "else:\n",
    "    print(\"You are not eligible to vote\")"
   ]
  },
  {
   "attachments": {},
   "cell_type": "markdown",
   "metadata": {},
   "source": [
    "Segragating the data into multiple lists."
   ]
  },
  {
   "cell_type": "code",
   "execution_count": 11,
   "metadata": {},
   "outputs": [
    {
     "name": "stdout",
     "output_type": "stream",
     "text": [
      "[69, 420]\n",
      "['King', '69', '420', 'a']\n",
      "[4.2, 5.77, 69.69]\n",
      "[[420, 69], [1, 2, 3]]\n",
      "[{1: 'one', 2: 'two'}]\n"
     ]
    }
   ],
   "source": [
    "list = [69, 4.20, 'King', [420, 69], '69', 5.77, 420, '420', 69.69, 'a', {1:'one', 2:'two'}, [1, 2, 3]]\n",
    "list_int = []\n",
    "list_str = []\n",
    "list_float = []\n",
    "list_list = []\n",
    "list_dict = []\n",
    "\n",
    "\n",
    "for i in list:\n",
    "    if type(i) == int:\n",
    "        list_int.append(i)\n",
    "    elif type(i) == str:\n",
    "        list_str.append(i)\n",
    "    elif type(i) == float:\n",
    "        list_float.append(i)\n",
    "    elif type(i) == dict:\n",
    "        list_dict.append(i)\n",
    "    else:\n",
    "        list_list.append(i)\n",
    "\n",
    "print(list_int)\n",
    "print(list_str)\n",
    "print(list_float)\n",
    "print(list_list)\n",
    "print(list_dict)"
   ]
  },
  {
   "attachments": {},
   "cell_type": "markdown",
   "metadata": {},
   "source": [
    "Loops"
   ]
  },
  {
   "cell_type": "code",
   "execution_count": 14,
   "metadata": {},
   "outputs": [
    {
     "name": "stdout",
     "output_type": "stream",
     "text": [
      "2 is prime\n",
      "3 is prime\n",
      "5 is prime\n",
      "7 is prime\n",
      "11 is prime\n",
      "13 is prime\n",
      "17 is prime\n",
      "19 is prime\n",
      "23 is prime\n",
      "29 is prime\n",
      "31 is prime\n",
      "37 is prime\n",
      "41 is prime\n",
      "43 is prime\n",
      "47 is prime\n",
      "53 is prime\n",
      "59 is prime\n",
      "61 is prime\n",
      "67 is prime\n",
      "71 is prime\n",
      "73 is prime\n",
      "79 is prime\n",
      "83 is prime\n",
      "89 is prime\n",
      "97 is prime\n",
      "Good Bye!\n"
     ]
    }
   ],
   "source": [
    "i = 2\n",
    "while( i < 100):\n",
    "  j = 2\n",
    "  while j <= (i/j):\n",
    "    if not(i%j):\n",
    "      break\n",
    "    j = j+1\n",
    "  if(j > i/j):\n",
    "    print(i, \"is prime\")\n",
    "  i = i+1\n",
    "print(\"Good Bye!\")"
   ]
  },
  {
   "cell_type": "code",
   "execution_count": 15,
   "metadata": {},
   "outputs": [
    {
     "name": "stdout",
     "output_type": "stream",
     "text": [
      "Current Letter: P\n",
      "Current Letter: y\n",
      "Current Letter: t\n",
      "Current Letter: h\n",
      "Current Letter: o\n",
      "Current Letter: n\n",
      "Current Letter: C\n",
      "Current Letter: l\n",
      "Current Letter: a\n",
      "Current Letter: s\n",
      "Current Letter: s\n"
     ]
    }
   ],
   "source": [
    "for i in \"PythonClass\":\n",
    "  print(\"Current Letter:\", i)"
   ]
  },
  {
   "cell_type": "code",
   "execution_count": 28,
   "metadata": {},
   "outputs": [
    {
     "name": "stdout",
     "output_type": "stream",
     "text": [
      "Current fruit: banana\n",
      "Current fruit: apple\n",
      "Current fruit: manngo\n",
      "Current fruit: banana\n",
      "Current fruit: apple\n",
      "Current fruit: manngo\n",
      "Current fruit: manngo\n",
      "Current fruit: apple\n",
      "Current fruit: banana\n"
     ]
    }
   ],
   "source": [
    "fruits = [\"banana\", \"apple\", \"manngo\"]\n",
    "for fruit in fruits:\n",
    "  print(\"Current fruit:\", fruit)\n",
    "for i in range(len(fruits)):\n",
    "  print(\"Current fruit:\", fruits[i])\n",
    "for i in range(len(fruits)-1, -1, -1):\n",
    "  print(\"Current fruit:\", fruits[i])"
   ]
  },
  {
   "attachments": {},
   "cell_type": "markdown",
   "metadata": {},
   "source": [
    "Functions"
   ]
  },
  {
   "cell_type": "code",
   "execution_count": 19,
   "metadata": {},
   "outputs": [
    {
     "name": "stdout",
     "output_type": "stream",
     "text": [
      "[10, 20, 40]\n",
      "[10, 20, 40, [1, 2, 3, 4]]\n"
     ]
    }
   ],
   "source": [
    "def change_name(mylist):\n",
    "  mylist.append([1, 2, 3, 4])\n",
    "  print(mylist)\n",
    "  return\n",
    "\n",
    "mylist = [10, 20, 40]\n",
    "print(mylist)\n",
    "change_name(mylist)"
   ]
  },
  {
   "attachments": {},
   "cell_type": "markdown",
   "metadata": {},
   "source": [
    "Pandas"
   ]
  },
  {
   "cell_type": "code",
   "execution_count": 35,
   "metadata": {},
   "outputs": [
    {
     "name": "stdout",
     "output_type": "stream",
     "text": [
      "        0\n",
      "0   Geeks\n",
      "1     For\n",
      "2   Geeks\n",
      "3      is\n",
      "4  portal\n",
      "5     for\n",
      "6   Geeks\n",
      "     Name  Age    Address Qualification\n",
      "0     Jai   27      Delhi           Msc\n",
      "1  Princi   24     Kanpur            MA\n",
      "2  Gaurav   22  Allahabad           MCA\n",
      "3    Anuj   32    Kannauj           Phd\n",
      "     Name Qualification\n",
      "0     Jai           Msc\n",
      "1  Princi            MA\n",
      "2  Gaurav           MCA\n",
      "3    Anuj           Phd\n",
      "22\n"
     ]
    }
   ],
   "source": [
    "import pandas as pd\n",
    "\n",
    "list = [\"Geeks\", \"For\", \"Geeks\", \"is\", \"portal\", \"for\", \"Geeks\"]\n",
    "df = pd.DataFrame(list)\n",
    "print(df)\n",
    "data = {'Name': ['Jai', 'Princi', 'Gaurav', 'Anuj'],\n",
    "        'Age': [27, 24, 22, 32],\n",
    "        'Address': ['Delhi', 'Kanpur', 'Allahabad', 'Kannauj'],\n",
    "        'Qualification': ['Msc', 'MA', 'MCA', 'Phd']}\n",
    "df = pd.DataFrame(data)\n",
    "print(df)\n",
    "print(df[['Name', 'Qualification']])\n",
    "row2 = df.iloc[2, 1]\n",
    "row2\n",
    "print(row2)\n"
   ]
  },
  {
   "cell_type": "code",
   "execution_count": 41,
   "metadata": {},
   "outputs": [
    {
     "name": "stdout",
     "output_type": "stream",
     "text": [
      "     Unnamed: 0     crim   zn  indus  chas    nox     rm   age     dis  rad  \\\n",
      "501         502  0.06263  0.0  11.93     0  0.573  6.593  69.1  2.4786    1   \n",
      "502         503  0.04527  0.0  11.93     0  0.573  6.120  76.7  2.2875    1   \n",
      "503         504  0.06076  0.0  11.93     0  0.573  6.976  91.0  2.1675    1   \n",
      "504         505  0.10959  0.0  11.93     0  0.573  6.794  89.3  2.3889    1   \n",
      "505         506  0.04741  0.0  11.93     0  0.573  6.030  80.8  2.5050    1   \n",
      "\n",
      "     tax  ptratio   black  lstat  medv  \n",
      "501  273     21.0  391.99   9.67  22.4  \n",
      "502  273     21.0  396.90   9.08  20.6  \n",
      "503  273     21.0  396.90   5.64  23.9  \n",
      "504  273     21.0  393.45   6.48  22.0  \n",
      "505  273     21.0  396.90   7.88  11.9  \n",
      "Index(['Unnamed: 0', 'crim', 'zn', 'indus', 'chas', 'nox', 'rm', 'age', 'dis',\n",
      "       'rad', 'tax', 'ptratio', 'black', 'lstat', 'medv'],\n",
      "      dtype='object')\n",
      "<bound method NDFrame.describe of      Unnamed: 0     crim    zn  indus  chas    nox     rm   age     dis  rad  \\\n",
      "0             1  0.00632  18.0   2.31     0  0.538  6.575  65.2  4.0900    1   \n",
      "1             2  0.02731   0.0   7.07     0  0.469  6.421  78.9  4.9671    2   \n",
      "2             3  0.02729   0.0   7.07     0  0.469  7.185  61.1  4.9671    2   \n",
      "3             4  0.03237   0.0   2.18     0  0.458  6.998  45.8  6.0622    3   \n",
      "4             5  0.06905   0.0   2.18     0  0.458  7.147  54.2  6.0622    3   \n",
      "..          ...      ...   ...    ...   ...    ...    ...   ...     ...  ...   \n",
      "501         502  0.06263   0.0  11.93     0  0.573  6.593  69.1  2.4786    1   \n",
      "502         503  0.04527   0.0  11.93     0  0.573  6.120  76.7  2.2875    1   \n",
      "503         504  0.06076   0.0  11.93     0  0.573  6.976  91.0  2.1675    1   \n",
      "504         505  0.10959   0.0  11.93     0  0.573  6.794  89.3  2.3889    1   \n",
      "505         506  0.04741   0.0  11.93     0  0.573  6.030  80.8  2.5050    1   \n",
      "\n",
      "     tax  ptratio   black  lstat  medv  \n",
      "0    296     15.3  396.90   4.98  24.0  \n",
      "1    242     17.8  396.90   9.14  21.6  \n",
      "2    242     17.8  392.83   4.03  34.7  \n",
      "3    222     18.7  394.63   2.94  33.4  \n",
      "4    222     18.7  396.90   5.33  36.2  \n",
      "..   ...      ...     ...    ...   ...  \n",
      "501  273     21.0  391.99   9.67  22.4  \n",
      "502  273     21.0  396.90   9.08  20.6  \n",
      "503  273     21.0  396.90   5.64  23.9  \n",
      "504  273     21.0  393.45   6.48  22.0  \n",
      "505  273     21.0  396.90   7.88  11.9  \n",
      "\n",
      "[506 rows x 15 columns]>\n",
      "0      396.90\n",
      "1      396.90\n",
      "2      392.83\n",
      "3      394.63\n",
      "4      396.90\n",
      "        ...  \n",
      "501    391.99\n",
      "502    396.90\n",
      "503    396.90\n",
      "504    393.45\n",
      "505    396.90\n",
      "Name: black, Length: 506, dtype: float64\n",
      "      black  medv     crim\n",
      "0    396.90  24.0  0.00632\n",
      "1    396.90  21.6  0.02731\n",
      "2    392.83  34.7  0.02729\n",
      "3    394.63  33.4  0.03237\n",
      "4    396.90  36.2  0.06905\n",
      "..      ...   ...      ...\n",
      "501  391.99  22.4  0.06263\n",
      "502  396.90  20.6  0.04527\n",
      "503  396.90  23.9  0.06076\n",
      "504  393.45  22.0  0.10959\n",
      "505  396.90  11.9  0.04741\n",
      "\n",
      "[506 rows x 3 columns]\n"
     ]
    }
   ],
   "source": [
    "import pandas as pd\n",
    "\n",
    "data = pd.read_csv('Boston.csv')\n",
    "data.head(10)\n",
    "print(data.tail(5))\n",
    "print(data.columns)\n",
    "print(data.describe)\n",
    "print(data.black)\n",
    "print(data[['black', 'medv', 'crim']])"
   ]
  }
 ],
 "metadata": {
  "kernelspec": {
   "display_name": "Python 3",
   "language": "python",
   "name": "python3"
  },
  "language_info": {
   "codemirror_mode": {
    "name": "ipython",
    "version": 3
   },
   "file_extension": ".py",
   "mimetype": "text/x-python",
   "name": "python",
   "nbconvert_exporter": "python",
   "pygments_lexer": "ipython3",
   "version": "3.10.9"
  },
  "orig_nbformat": 4,
  "vscode": {
   "interpreter": {
    "hash": "767d51c1340bd893661ea55ea3124f6de3c7a262a8b4abca0554b478b1e2ff90"
   }
  }
 },
 "nbformat": 4,
 "nbformat_minor": 2
}
